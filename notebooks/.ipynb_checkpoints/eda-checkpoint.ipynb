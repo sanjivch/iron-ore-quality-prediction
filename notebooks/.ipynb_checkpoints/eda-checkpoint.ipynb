{
 "cells": [
  {
   "cell_type": "code",
   "execution_count": 34,
   "metadata": {},
   "outputs": [],
   "source": [
    "import numpy as np\n",
    "import pandas as pd\n",
    "import matplotlib.pyplot as plt\n",
    "import seaborn as sns"
   ]
  },
  {
   "cell_type": "code",
   "execution_count": 82,
   "metadata": {},
   "outputs": [],
   "source": [
    "from sklearn import preprocessing\n",
    "from sklearn.model_selection import train_test_split\n",
    "from sklearn.linear_model import LinearRegression\n",
    "from sklearn.metrics import mean_squared_error, r2_score\n",
    "from sklearn.ensemble import RandomForestRegressor"
   ]
  },
  {
   "cell_type": "code",
   "execution_count": 79,
   "metadata": {},
   "outputs": [],
   "source": [
    "import pickle"
   ]
  },
  {
   "cell_type": "markdown",
   "metadata": {},
   "source": [
    "#### Feature Summary\n",
    "\n",
    "| Feature | Description |\n",
    "|:---------|:-------------|\n",
    "| date |Date and timestamp|\n",
    "|% Iron Feed |% of Iron that comes from the iron ore that is being fed into the flotation cells|\n",
    "|% Silica Feed|% of silica (impurity) that comes from the iron ore that is being fed into the flotation cells|\n",
    "|Starch Flow|Starch (reagent) Flow measured in m3/h|\n",
    "|Amina Flow|Amina (reagent) Flow measured in m3/h|\n",
    "|Ore Pulp Flow|t/h|\n",
    "|Ore Pulp pH|pH scale from 0 to 14|\n",
    "|Ore Pulp Density|Density scale from 1 to 3 kg/cm³|\n",
    "|Flotation Column 01-07 Air Flow|Air flow that goes into the flotation cells 01 to 07 measured in Nm³/h|\n",
    "|Flotation Column 01 -07  Level|Froth level in the flotation cell measured in mm (millimeters)|\n",
    "|% Iron Concentrate|% of Iron which represents how much iron is presented in the end of the flotation process (0-100%, lab measurement)|\n",
    "|% Silica Concentrate|% of silica which represents how much iron is presented in the end of the flotation process (0-100%, lab measurement)|"
   ]
  },
  {
   "cell_type": "code",
   "execution_count": 36,
   "metadata": {},
   "outputs": [],
   "source": [
    "pd.set_option('display.max_columns', 500)"
   ]
  },
  {
   "cell_type": "markdown",
   "metadata": {},
   "source": [
    "#### Load data"
   ]
  },
  {
   "cell_type": "code",
   "execution_count": 37,
   "metadata": {},
   "outputs": [],
   "source": [
    "df = pd.read_csv(\"../data/MiningProcess_Flotation_Plant_Database.csv\",decimal=\",\",parse_dates=[\"date\"],infer_datetime_format=True)\n",
    "df = df.drop_duplicates()"
   ]
  },
  {
   "cell_type": "code",
   "execution_count": 98,
   "metadata": {},
   "outputs": [
    {
     "data": {
      "text/plain": [
       "(736282, 24)"
      ]
     },
     "execution_count": 98,
     "metadata": {},
     "output_type": "execute_result"
    }
   ],
   "source": [
    "df.shape"
   ]
  },
  {
   "cell_type": "code",
   "execution_count": 38,
   "metadata": {},
   "outputs": [
    {
     "data": {
      "text/html": [
       "<div>\n",
       "<style scoped>\n",
       "    .dataframe tbody tr th:only-of-type {\n",
       "        vertical-align: middle;\n",
       "    }\n",
       "\n",
       "    .dataframe tbody tr th {\n",
       "        vertical-align: top;\n",
       "    }\n",
       "\n",
       "    .dataframe thead th {\n",
       "        text-align: right;\n",
       "    }\n",
       "</style>\n",
       "<table border=\"1\" class=\"dataframe\">\n",
       "  <thead>\n",
       "    <tr style=\"text-align: right;\">\n",
       "      <th></th>\n",
       "      <th>date</th>\n",
       "      <th>% Iron Feed</th>\n",
       "      <th>% Silica Feed</th>\n",
       "      <th>Starch Flow</th>\n",
       "      <th>Amina Flow</th>\n",
       "      <th>Ore Pulp Flow</th>\n",
       "      <th>Ore Pulp pH</th>\n",
       "      <th>Ore Pulp Density</th>\n",
       "      <th>Flotation Column 01 Air Flow</th>\n",
       "      <th>Flotation Column 02 Air Flow</th>\n",
       "      <th>Flotation Column 03 Air Flow</th>\n",
       "      <th>Flotation Column 04 Air Flow</th>\n",
       "      <th>Flotation Column 05 Air Flow</th>\n",
       "      <th>Flotation Column 06 Air Flow</th>\n",
       "      <th>Flotation Column 07 Air Flow</th>\n",
       "      <th>Flotation Column 01 Level</th>\n",
       "      <th>Flotation Column 02 Level</th>\n",
       "      <th>Flotation Column 03 Level</th>\n",
       "      <th>Flotation Column 04 Level</th>\n",
       "      <th>Flotation Column 05 Level</th>\n",
       "      <th>Flotation Column 06 Level</th>\n",
       "      <th>Flotation Column 07 Level</th>\n",
       "      <th>% Iron Concentrate</th>\n",
       "      <th>% Silica Concentrate</th>\n",
       "    </tr>\n",
       "  </thead>\n",
       "  <tbody>\n",
       "    <tr>\n",
       "      <th>0</th>\n",
       "      <td>2017-03-10 01:00:00</td>\n",
       "      <td>55.2</td>\n",
       "      <td>16.98</td>\n",
       "      <td>3019.53</td>\n",
       "      <td>557.434</td>\n",
       "      <td>395.713</td>\n",
       "      <td>10.0664</td>\n",
       "      <td>1.74</td>\n",
       "      <td>249.214</td>\n",
       "      <td>253.235</td>\n",
       "      <td>250.576</td>\n",
       "      <td>295.096</td>\n",
       "      <td>306.4</td>\n",
       "      <td>250.225</td>\n",
       "      <td>250.884</td>\n",
       "      <td>457.396</td>\n",
       "      <td>432.962</td>\n",
       "      <td>424.954</td>\n",
       "      <td>443.558</td>\n",
       "      <td>502.255</td>\n",
       "      <td>446.370</td>\n",
       "      <td>523.344</td>\n",
       "      <td>66.91</td>\n",
       "      <td>1.31</td>\n",
       "    </tr>\n",
       "    <tr>\n",
       "      <th>1</th>\n",
       "      <td>2017-03-10 01:00:00</td>\n",
       "      <td>55.2</td>\n",
       "      <td>16.98</td>\n",
       "      <td>3024.41</td>\n",
       "      <td>563.965</td>\n",
       "      <td>397.383</td>\n",
       "      <td>10.0672</td>\n",
       "      <td>1.74</td>\n",
       "      <td>249.719</td>\n",
       "      <td>250.532</td>\n",
       "      <td>250.862</td>\n",
       "      <td>295.096</td>\n",
       "      <td>306.4</td>\n",
       "      <td>250.137</td>\n",
       "      <td>248.994</td>\n",
       "      <td>451.891</td>\n",
       "      <td>429.560</td>\n",
       "      <td>432.939</td>\n",
       "      <td>448.086</td>\n",
       "      <td>496.363</td>\n",
       "      <td>445.922</td>\n",
       "      <td>498.075</td>\n",
       "      <td>66.91</td>\n",
       "      <td>1.31</td>\n",
       "    </tr>\n",
       "    <tr>\n",
       "      <th>2</th>\n",
       "      <td>2017-03-10 01:00:00</td>\n",
       "      <td>55.2</td>\n",
       "      <td>16.98</td>\n",
       "      <td>3043.46</td>\n",
       "      <td>568.054</td>\n",
       "      <td>399.668</td>\n",
       "      <td>10.0680</td>\n",
       "      <td>1.74</td>\n",
       "      <td>249.741</td>\n",
       "      <td>247.874</td>\n",
       "      <td>250.313</td>\n",
       "      <td>295.096</td>\n",
       "      <td>306.4</td>\n",
       "      <td>251.345</td>\n",
       "      <td>248.071</td>\n",
       "      <td>451.240</td>\n",
       "      <td>468.927</td>\n",
       "      <td>434.610</td>\n",
       "      <td>449.688</td>\n",
       "      <td>484.411</td>\n",
       "      <td>447.826</td>\n",
       "      <td>458.567</td>\n",
       "      <td>66.91</td>\n",
       "      <td>1.31</td>\n",
       "    </tr>\n",
       "    <tr>\n",
       "      <th>3</th>\n",
       "      <td>2017-03-10 01:00:00</td>\n",
       "      <td>55.2</td>\n",
       "      <td>16.98</td>\n",
       "      <td>3047.36</td>\n",
       "      <td>568.665</td>\n",
       "      <td>397.939</td>\n",
       "      <td>10.0689</td>\n",
       "      <td>1.74</td>\n",
       "      <td>249.917</td>\n",
       "      <td>254.487</td>\n",
       "      <td>250.049</td>\n",
       "      <td>295.096</td>\n",
       "      <td>306.4</td>\n",
       "      <td>250.422</td>\n",
       "      <td>251.147</td>\n",
       "      <td>452.441</td>\n",
       "      <td>458.165</td>\n",
       "      <td>442.865</td>\n",
       "      <td>446.210</td>\n",
       "      <td>471.411</td>\n",
       "      <td>437.690</td>\n",
       "      <td>427.669</td>\n",
       "      <td>66.91</td>\n",
       "      <td>1.31</td>\n",
       "    </tr>\n",
       "    <tr>\n",
       "      <th>4</th>\n",
       "      <td>2017-03-10 01:00:00</td>\n",
       "      <td>55.2</td>\n",
       "      <td>16.98</td>\n",
       "      <td>3033.69</td>\n",
       "      <td>558.167</td>\n",
       "      <td>400.254</td>\n",
       "      <td>10.0697</td>\n",
       "      <td>1.74</td>\n",
       "      <td>250.203</td>\n",
       "      <td>252.136</td>\n",
       "      <td>249.895</td>\n",
       "      <td>295.096</td>\n",
       "      <td>306.4</td>\n",
       "      <td>249.983</td>\n",
       "      <td>248.928</td>\n",
       "      <td>452.441</td>\n",
       "      <td>452.900</td>\n",
       "      <td>450.523</td>\n",
       "      <td>453.670</td>\n",
       "      <td>462.598</td>\n",
       "      <td>443.682</td>\n",
       "      <td>425.679</td>\n",
       "      <td>66.91</td>\n",
       "      <td>1.31</td>\n",
       "    </tr>\n",
       "  </tbody>\n",
       "</table>\n",
       "</div>"
      ],
      "text/plain": [
       "                 date  % Iron Feed  % Silica Feed  Starch Flow  Amina Flow  \\\n",
       "0 2017-03-10 01:00:00         55.2          16.98      3019.53     557.434   \n",
       "1 2017-03-10 01:00:00         55.2          16.98      3024.41     563.965   \n",
       "2 2017-03-10 01:00:00         55.2          16.98      3043.46     568.054   \n",
       "3 2017-03-10 01:00:00         55.2          16.98      3047.36     568.665   \n",
       "4 2017-03-10 01:00:00         55.2          16.98      3033.69     558.167   \n",
       "\n",
       "   Ore Pulp Flow  Ore Pulp pH  Ore Pulp Density  Flotation Column 01 Air Flow  \\\n",
       "0        395.713      10.0664              1.74                       249.214   \n",
       "1        397.383      10.0672              1.74                       249.719   \n",
       "2        399.668      10.0680              1.74                       249.741   \n",
       "3        397.939      10.0689              1.74                       249.917   \n",
       "4        400.254      10.0697              1.74                       250.203   \n",
       "\n",
       "   Flotation Column 02 Air Flow  Flotation Column 03 Air Flow  \\\n",
       "0                       253.235                       250.576   \n",
       "1                       250.532                       250.862   \n",
       "2                       247.874                       250.313   \n",
       "3                       254.487                       250.049   \n",
       "4                       252.136                       249.895   \n",
       "\n",
       "   Flotation Column 04 Air Flow  Flotation Column 05 Air Flow  \\\n",
       "0                       295.096                         306.4   \n",
       "1                       295.096                         306.4   \n",
       "2                       295.096                         306.4   \n",
       "3                       295.096                         306.4   \n",
       "4                       295.096                         306.4   \n",
       "\n",
       "   Flotation Column 06 Air Flow  Flotation Column 07 Air Flow  \\\n",
       "0                       250.225                       250.884   \n",
       "1                       250.137                       248.994   \n",
       "2                       251.345                       248.071   \n",
       "3                       250.422                       251.147   \n",
       "4                       249.983                       248.928   \n",
       "\n",
       "   Flotation Column 01 Level  Flotation Column 02 Level  \\\n",
       "0                    457.396                    432.962   \n",
       "1                    451.891                    429.560   \n",
       "2                    451.240                    468.927   \n",
       "3                    452.441                    458.165   \n",
       "4                    452.441                    452.900   \n",
       "\n",
       "   Flotation Column 03 Level  Flotation Column 04 Level  \\\n",
       "0                    424.954                    443.558   \n",
       "1                    432.939                    448.086   \n",
       "2                    434.610                    449.688   \n",
       "3                    442.865                    446.210   \n",
       "4                    450.523                    453.670   \n",
       "\n",
       "   Flotation Column 05 Level  Flotation Column 06 Level  \\\n",
       "0                    502.255                    446.370   \n",
       "1                    496.363                    445.922   \n",
       "2                    484.411                    447.826   \n",
       "3                    471.411                    437.690   \n",
       "4                    462.598                    443.682   \n",
       "\n",
       "   Flotation Column 07 Level  % Iron Concentrate  % Silica Concentrate  \n",
       "0                    523.344               66.91                  1.31  \n",
       "1                    498.075               66.91                  1.31  \n",
       "2                    458.567               66.91                  1.31  \n",
       "3                    427.669               66.91                  1.31  \n",
       "4                    425.679               66.91                  1.31  "
      ]
     },
     "execution_count": 38,
     "metadata": {},
     "output_type": "execute_result"
    }
   ],
   "source": [
    "df.head()"
   ]
  },
  {
   "cell_type": "code",
   "execution_count": 39,
   "metadata": {},
   "outputs": [
    {
     "data": {
      "text/html": [
       "<div>\n",
       "<style scoped>\n",
       "    .dataframe tbody tr th:only-of-type {\n",
       "        vertical-align: middle;\n",
       "    }\n",
       "\n",
       "    .dataframe tbody tr th {\n",
       "        vertical-align: top;\n",
       "    }\n",
       "\n",
       "    .dataframe thead th {\n",
       "        text-align: right;\n",
       "    }\n",
       "</style>\n",
       "<table border=\"1\" class=\"dataframe\">\n",
       "  <thead>\n",
       "    <tr style=\"text-align: right;\">\n",
       "      <th></th>\n",
       "      <th>% Iron Feed</th>\n",
       "      <th>% Silica Feed</th>\n",
       "      <th>Starch Flow</th>\n",
       "      <th>Amina Flow</th>\n",
       "      <th>Ore Pulp Flow</th>\n",
       "      <th>Ore Pulp pH</th>\n",
       "      <th>Ore Pulp Density</th>\n",
       "      <th>Flotation Column 01 Air Flow</th>\n",
       "      <th>Flotation Column 02 Air Flow</th>\n",
       "      <th>Flotation Column 03 Air Flow</th>\n",
       "      <th>Flotation Column 04 Air Flow</th>\n",
       "      <th>Flotation Column 05 Air Flow</th>\n",
       "      <th>Flotation Column 06 Air Flow</th>\n",
       "      <th>Flotation Column 07 Air Flow</th>\n",
       "      <th>Flotation Column 01 Level</th>\n",
       "      <th>Flotation Column 02 Level</th>\n",
       "      <th>Flotation Column 03 Level</th>\n",
       "      <th>Flotation Column 04 Level</th>\n",
       "      <th>Flotation Column 05 Level</th>\n",
       "      <th>Flotation Column 06 Level</th>\n",
       "      <th>Flotation Column 07 Level</th>\n",
       "      <th>% Iron Concentrate</th>\n",
       "      <th>% Silica Concentrate</th>\n",
       "    </tr>\n",
       "  </thead>\n",
       "  <tbody>\n",
       "    <tr>\n",
       "      <th>count</th>\n",
       "      <td>736282.000000</td>\n",
       "      <td>736282.000000</td>\n",
       "      <td>736282.000000</td>\n",
       "      <td>736282.000000</td>\n",
       "      <td>736282.000000</td>\n",
       "      <td>736282.000000</td>\n",
       "      <td>736282.000000</td>\n",
       "      <td>736282.000000</td>\n",
       "      <td>736282.000000</td>\n",
       "      <td>736282.000000</td>\n",
       "      <td>736282.000000</td>\n",
       "      <td>736282.000000</td>\n",
       "      <td>736282.000000</td>\n",
       "      <td>736282.000000</td>\n",
       "      <td>736282.000000</td>\n",
       "      <td>736282.000000</td>\n",
       "      <td>736282.000000</td>\n",
       "      <td>736282.000000</td>\n",
       "      <td>736282.00000</td>\n",
       "      <td>736282.000000</td>\n",
       "      <td>736282.000000</td>\n",
       "      <td>736282.000000</td>\n",
       "      <td>736282.000000</td>\n",
       "    </tr>\n",
       "    <tr>\n",
       "      <th>mean</th>\n",
       "      <td>56.298307</td>\n",
       "      <td>14.648984</td>\n",
       "      <td>2869.636615</td>\n",
       "      <td>488.165523</td>\n",
       "      <td>397.570736</td>\n",
       "      <td>9.767315</td>\n",
       "      <td>1.680424</td>\n",
       "      <td>280.119813</td>\n",
       "      <td>277.121249</td>\n",
       "      <td>281.052538</td>\n",
       "      <td>299.446217</td>\n",
       "      <td>299.914815</td>\n",
       "      <td>292.065742</td>\n",
       "      <td>290.740507</td>\n",
       "      <td>520.168402</td>\n",
       "      <td>522.555279</td>\n",
       "      <td>531.283790</td>\n",
       "      <td>420.169753</td>\n",
       "      <td>425.09453</td>\n",
       "      <td>429.889517</td>\n",
       "      <td>420.910258</td>\n",
       "      <td>65.049096</td>\n",
       "      <td>2.327270</td>\n",
       "    </tr>\n",
       "    <tr>\n",
       "      <th>std</th>\n",
       "      <td>5.160365</td>\n",
       "      <td>6.810741</td>\n",
       "      <td>1216.017896</td>\n",
       "      <td>91.254428</td>\n",
       "      <td>9.705444</td>\n",
       "      <td>0.387176</td>\n",
       "      <td>0.069206</td>\n",
       "      <td>29.633831</td>\n",
       "      <td>30.157126</td>\n",
       "      <td>28.571077</td>\n",
       "      <td>2.573805</td>\n",
       "      <td>3.637020</td>\n",
       "      <td>30.241329</td>\n",
       "      <td>28.690520</td>\n",
       "      <td>131.085819</td>\n",
       "      <td>128.216232</td>\n",
       "      <td>150.931865</td>\n",
       "      <td>91.755819</td>\n",
       "      <td>84.47917</td>\n",
       "      <td>89.919586</td>\n",
       "      <td>84.899167</td>\n",
       "      <td>1.118721</td>\n",
       "      <td>1.125616</td>\n",
       "    </tr>\n",
       "    <tr>\n",
       "      <th>min</th>\n",
       "      <td>42.740000</td>\n",
       "      <td>1.310000</td>\n",
       "      <td>0.002026</td>\n",
       "      <td>241.669000</td>\n",
       "      <td>376.249000</td>\n",
       "      <td>8.753340</td>\n",
       "      <td>1.519820</td>\n",
       "      <td>175.510000</td>\n",
       "      <td>175.156000</td>\n",
       "      <td>176.469000</td>\n",
       "      <td>292.195000</td>\n",
       "      <td>286.295000</td>\n",
       "      <td>189.928000</td>\n",
       "      <td>185.962000</td>\n",
       "      <td>149.218000</td>\n",
       "      <td>210.752000</td>\n",
       "      <td>126.255000</td>\n",
       "      <td>162.201000</td>\n",
       "      <td>166.99100</td>\n",
       "      <td>155.841000</td>\n",
       "      <td>175.349000</td>\n",
       "      <td>62.050000</td>\n",
       "      <td>0.600000</td>\n",
       "    </tr>\n",
       "    <tr>\n",
       "      <th>25%</th>\n",
       "      <td>52.670000</td>\n",
       "      <td>8.940000</td>\n",
       "      <td>2075.070000</td>\n",
       "      <td>431.835848</td>\n",
       "      <td>394.248000</td>\n",
       "      <td>9.527050</td>\n",
       "      <td>1.647390</td>\n",
       "      <td>250.278000</td>\n",
       "      <td>250.448000</td>\n",
       "      <td>250.847000</td>\n",
       "      <td>298.257000</td>\n",
       "      <td>298.069000</td>\n",
       "      <td>260.299750</td>\n",
       "      <td>256.047750</td>\n",
       "      <td>416.902000</td>\n",
       "      <td>441.835250</td>\n",
       "      <td>411.256000</td>\n",
       "      <td>356.627000</td>\n",
       "      <td>357.59525</td>\n",
       "      <td>358.438000</td>\n",
       "      <td>356.705250</td>\n",
       "      <td>64.370000</td>\n",
       "      <td>1.440000</td>\n",
       "    </tr>\n",
       "    <tr>\n",
       "      <th>50%</th>\n",
       "      <td>56.080000</td>\n",
       "      <td>13.850000</td>\n",
       "      <td>3020.230000</td>\n",
       "      <td>504.352500</td>\n",
       "      <td>399.238000</td>\n",
       "      <td>9.797460</td>\n",
       "      <td>1.697580</td>\n",
       "      <td>299.341000</td>\n",
       "      <td>296.202000</td>\n",
       "      <td>298.690000</td>\n",
       "      <td>299.804000</td>\n",
       "      <td>299.886000</td>\n",
       "      <td>299.486000</td>\n",
       "      <td>299.002000</td>\n",
       "      <td>491.749000</td>\n",
       "      <td>495.853500</td>\n",
       "      <td>494.184000</td>\n",
       "      <td>411.770500</td>\n",
       "      <td>408.65000</td>\n",
       "      <td>424.427000</td>\n",
       "      <td>410.940000</td>\n",
       "      <td>65.210000</td>\n",
       "      <td>2.000000</td>\n",
       "    </tr>\n",
       "    <tr>\n",
       "      <th>75%</th>\n",
       "      <td>59.720000</td>\n",
       "      <td>19.600000</td>\n",
       "      <td>3728.930000</td>\n",
       "      <td>553.335750</td>\n",
       "      <td>402.967000</td>\n",
       "      <td>10.037800</td>\n",
       "      <td>1.728380</td>\n",
       "      <td>300.147000</td>\n",
       "      <td>300.686000</td>\n",
       "      <td>300.385000</td>\n",
       "      <td>300.635000</td>\n",
       "      <td>301.785000</td>\n",
       "      <td>303.077000</td>\n",
       "      <td>301.907000</td>\n",
       "      <td>594.097750</td>\n",
       "      <td>595.293000</td>\n",
       "      <td>601.299000</td>\n",
       "      <td>485.285000</td>\n",
       "      <td>484.00800</td>\n",
       "      <td>492.773000</td>\n",
       "      <td>476.145000</td>\n",
       "      <td>65.860000</td>\n",
       "      <td>3.010000</td>\n",
       "    </tr>\n",
       "    <tr>\n",
       "      <th>max</th>\n",
       "      <td>65.780000</td>\n",
       "      <td>33.400000</td>\n",
       "      <td>6300.230000</td>\n",
       "      <td>739.538000</td>\n",
       "      <td>418.641000</td>\n",
       "      <td>10.808100</td>\n",
       "      <td>1.853250</td>\n",
       "      <td>373.871000</td>\n",
       "      <td>375.992000</td>\n",
       "      <td>364.346000</td>\n",
       "      <td>305.871000</td>\n",
       "      <td>310.270000</td>\n",
       "      <td>370.910000</td>\n",
       "      <td>371.593000</td>\n",
       "      <td>862.274000</td>\n",
       "      <td>828.919000</td>\n",
       "      <td>886.822000</td>\n",
       "      <td>680.359000</td>\n",
       "      <td>675.64400</td>\n",
       "      <td>698.861000</td>\n",
       "      <td>659.902000</td>\n",
       "      <td>68.010000</td>\n",
       "      <td>5.530000</td>\n",
       "    </tr>\n",
       "  </tbody>\n",
       "</table>\n",
       "</div>"
      ],
      "text/plain": [
       "         % Iron Feed  % Silica Feed    Starch Flow     Amina Flow  \\\n",
       "count  736282.000000  736282.000000  736282.000000  736282.000000   \n",
       "mean       56.298307      14.648984    2869.636615     488.165523   \n",
       "std         5.160365       6.810741    1216.017896      91.254428   \n",
       "min        42.740000       1.310000       0.002026     241.669000   \n",
       "25%        52.670000       8.940000    2075.070000     431.835848   \n",
       "50%        56.080000      13.850000    3020.230000     504.352500   \n",
       "75%        59.720000      19.600000    3728.930000     553.335750   \n",
       "max        65.780000      33.400000    6300.230000     739.538000   \n",
       "\n",
       "       Ore Pulp Flow    Ore Pulp pH  Ore Pulp Density  \\\n",
       "count  736282.000000  736282.000000     736282.000000   \n",
       "mean      397.570736       9.767315          1.680424   \n",
       "std         9.705444       0.387176          0.069206   \n",
       "min       376.249000       8.753340          1.519820   \n",
       "25%       394.248000       9.527050          1.647390   \n",
       "50%       399.238000       9.797460          1.697580   \n",
       "75%       402.967000      10.037800          1.728380   \n",
       "max       418.641000      10.808100          1.853250   \n",
       "\n",
       "       Flotation Column 01 Air Flow  Flotation Column 02 Air Flow  \\\n",
       "count                 736282.000000                 736282.000000   \n",
       "mean                     280.119813                    277.121249   \n",
       "std                       29.633831                     30.157126   \n",
       "min                      175.510000                    175.156000   \n",
       "25%                      250.278000                    250.448000   \n",
       "50%                      299.341000                    296.202000   \n",
       "75%                      300.147000                    300.686000   \n",
       "max                      373.871000                    375.992000   \n",
       "\n",
       "       Flotation Column 03 Air Flow  Flotation Column 04 Air Flow  \\\n",
       "count                 736282.000000                 736282.000000   \n",
       "mean                     281.052538                    299.446217   \n",
       "std                       28.571077                      2.573805   \n",
       "min                      176.469000                    292.195000   \n",
       "25%                      250.847000                    298.257000   \n",
       "50%                      298.690000                    299.804000   \n",
       "75%                      300.385000                    300.635000   \n",
       "max                      364.346000                    305.871000   \n",
       "\n",
       "       Flotation Column 05 Air Flow  Flotation Column 06 Air Flow  \\\n",
       "count                 736282.000000                 736282.000000   \n",
       "mean                     299.914815                    292.065742   \n",
       "std                        3.637020                     30.241329   \n",
       "min                      286.295000                    189.928000   \n",
       "25%                      298.069000                    260.299750   \n",
       "50%                      299.886000                    299.486000   \n",
       "75%                      301.785000                    303.077000   \n",
       "max                      310.270000                    370.910000   \n",
       "\n",
       "       Flotation Column 07 Air Flow  Flotation Column 01 Level  \\\n",
       "count                 736282.000000              736282.000000   \n",
       "mean                     290.740507                 520.168402   \n",
       "std                       28.690520                 131.085819   \n",
       "min                      185.962000                 149.218000   \n",
       "25%                      256.047750                 416.902000   \n",
       "50%                      299.002000                 491.749000   \n",
       "75%                      301.907000                 594.097750   \n",
       "max                      371.593000                 862.274000   \n",
       "\n",
       "       Flotation Column 02 Level  Flotation Column 03 Level  \\\n",
       "count              736282.000000              736282.000000   \n",
       "mean                  522.555279                 531.283790   \n",
       "std                   128.216232                 150.931865   \n",
       "min                   210.752000                 126.255000   \n",
       "25%                   441.835250                 411.256000   \n",
       "50%                   495.853500                 494.184000   \n",
       "75%                   595.293000                 601.299000   \n",
       "max                   828.919000                 886.822000   \n",
       "\n",
       "       Flotation Column 04 Level  Flotation Column 05 Level  \\\n",
       "count              736282.000000               736282.00000   \n",
       "mean                  420.169753                  425.09453   \n",
       "std                    91.755819                   84.47917   \n",
       "min                   162.201000                  166.99100   \n",
       "25%                   356.627000                  357.59525   \n",
       "50%                   411.770500                  408.65000   \n",
       "75%                   485.285000                  484.00800   \n",
       "max                   680.359000                  675.64400   \n",
       "\n",
       "       Flotation Column 06 Level  Flotation Column 07 Level  \\\n",
       "count              736282.000000              736282.000000   \n",
       "mean                  429.889517                 420.910258   \n",
       "std                    89.919586                  84.899167   \n",
       "min                   155.841000                 175.349000   \n",
       "25%                   358.438000                 356.705250   \n",
       "50%                   424.427000                 410.940000   \n",
       "75%                   492.773000                 476.145000   \n",
       "max                   698.861000                 659.902000   \n",
       "\n",
       "       % Iron Concentrate  % Silica Concentrate  \n",
       "count       736282.000000         736282.000000  \n",
       "mean            65.049096              2.327270  \n",
       "std              1.118721              1.125616  \n",
       "min             62.050000              0.600000  \n",
       "25%             64.370000              1.440000  \n",
       "50%             65.210000              2.000000  \n",
       "75%             65.860000              3.010000  \n",
       "max             68.010000              5.530000  "
      ]
     },
     "execution_count": 39,
     "metadata": {},
     "output_type": "execute_result"
    }
   ],
   "source": [
    "df.describe()"
   ]
  },
  {
   "cell_type": "code",
   "execution_count": 40,
   "metadata": {},
   "outputs": [
    {
     "data": {
      "text/plain": [
       "Index(['date', '% Iron Feed', '% Silica Feed', 'Starch Flow', 'Amina Flow',\n",
       "       'Ore Pulp Flow', 'Ore Pulp pH', 'Ore Pulp Density',\n",
       "       'Flotation Column 01 Air Flow', 'Flotation Column 02 Air Flow',\n",
       "       'Flotation Column 03 Air Flow', 'Flotation Column 04 Air Flow',\n",
       "       'Flotation Column 05 Air Flow', 'Flotation Column 06 Air Flow',\n",
       "       'Flotation Column 07 Air Flow', 'Flotation Column 01 Level',\n",
       "       'Flotation Column 02 Level', 'Flotation Column 03 Level',\n",
       "       'Flotation Column 04 Level', 'Flotation Column 05 Level',\n",
       "       'Flotation Column 06 Level', 'Flotation Column 07 Level',\n",
       "       '% Iron Concentrate', '% Silica Concentrate'],\n",
       "      dtype='object')"
      ]
     },
     "execution_count": 40,
     "metadata": {},
     "output_type": "execute_result"
    }
   ],
   "source": [
    "df.columns"
   ]
  },
  {
   "cell_type": "markdown",
   "metadata": {},
   "source": [
    "#### Features and Targets"
   ]
  },
  {
   "cell_type": "code",
   "execution_count": 41,
   "metadata": {},
   "outputs": [],
   "source": [
    "\n",
    "X = df.drop(['date','% Silica Concentrate'], axis=1)\n",
    "y = df['% Silica Concentrate']"
   ]
  },
  {
   "cell_type": "markdown",
   "metadata": {},
   "source": [
    "#### Split data for training"
   ]
  },
  {
   "cell_type": "code",
   "execution_count": 42,
   "metadata": {},
   "outputs": [],
   "source": [
    "X_train, X_test, y_train, y_test = train_test_split(X, y, test_size=0.3, random_state=101)"
   ]
  },
  {
   "cell_type": "markdown",
   "metadata": {},
   "source": [
    "#### Scale training data"
   ]
  },
  {
   "cell_type": "code",
   "execution_count": 43,
   "metadata": {},
   "outputs": [],
   "source": [
    "x_scaler = preprocessing.MinMaxScaler()"
   ]
  },
  {
   "cell_type": "code",
   "execution_count": 44,
   "metadata": {},
   "outputs": [],
   "source": [
    "X_train_scaled = x_scaler.fit_transform(X_train)"
   ]
  },
  {
   "cell_type": "code",
   "execution_count": 109,
   "metadata": {},
   "outputs": [],
   "source": [
    "filename = 'scaler_lr.pkl'\n",
    "pickle.dump(x_scaler, open(filename, 'wb'))"
   ]
  },
  {
   "cell_type": "markdown",
   "metadata": {},
   "source": [
    "#### Train model - Linear Regression"
   ]
  },
  {
   "cell_type": "code",
   "execution_count": 45,
   "metadata": {},
   "outputs": [],
   "source": [
    "model_lr = LinearRegression()"
   ]
  },
  {
   "cell_type": "code",
   "execution_count": 46,
   "metadata": {},
   "outputs": [
    {
     "data": {
      "text/html": [
       "<style>#sk-container-id-3 {color: black;background-color: white;}#sk-container-id-3 pre{padding: 0;}#sk-container-id-3 div.sk-toggleable {background-color: white;}#sk-container-id-3 label.sk-toggleable__label {cursor: pointer;display: block;width: 100%;margin-bottom: 0;padding: 0.3em;box-sizing: border-box;text-align: center;}#sk-container-id-3 label.sk-toggleable__label-arrow:before {content: \"▸\";float: left;margin-right: 0.25em;color: #696969;}#sk-container-id-3 label.sk-toggleable__label-arrow:hover:before {color: black;}#sk-container-id-3 div.sk-estimator:hover label.sk-toggleable__label-arrow:before {color: black;}#sk-container-id-3 div.sk-toggleable__content {max-height: 0;max-width: 0;overflow: hidden;text-align: left;background-color: #f0f8ff;}#sk-container-id-3 div.sk-toggleable__content pre {margin: 0.2em;color: black;border-radius: 0.25em;background-color: #f0f8ff;}#sk-container-id-3 input.sk-toggleable__control:checked~div.sk-toggleable__content {max-height: 200px;max-width: 100%;overflow: auto;}#sk-container-id-3 input.sk-toggleable__control:checked~label.sk-toggleable__label-arrow:before {content: \"▾\";}#sk-container-id-3 div.sk-estimator input.sk-toggleable__control:checked~label.sk-toggleable__label {background-color: #d4ebff;}#sk-container-id-3 div.sk-label input.sk-toggleable__control:checked~label.sk-toggleable__label {background-color: #d4ebff;}#sk-container-id-3 input.sk-hidden--visually {border: 0;clip: rect(1px 1px 1px 1px);clip: rect(1px, 1px, 1px, 1px);height: 1px;margin: -1px;overflow: hidden;padding: 0;position: absolute;width: 1px;}#sk-container-id-3 div.sk-estimator {font-family: monospace;background-color: #f0f8ff;border: 1px dotted black;border-radius: 0.25em;box-sizing: border-box;margin-bottom: 0.5em;}#sk-container-id-3 div.sk-estimator:hover {background-color: #d4ebff;}#sk-container-id-3 div.sk-parallel-item::after {content: \"\";width: 100%;border-bottom: 1px solid gray;flex-grow: 1;}#sk-container-id-3 div.sk-label:hover label.sk-toggleable__label {background-color: #d4ebff;}#sk-container-id-3 div.sk-serial::before {content: \"\";position: absolute;border-left: 1px solid gray;box-sizing: border-box;top: 0;bottom: 0;left: 50%;z-index: 0;}#sk-container-id-3 div.sk-serial {display: flex;flex-direction: column;align-items: center;background-color: white;padding-right: 0.2em;padding-left: 0.2em;position: relative;}#sk-container-id-3 div.sk-item {position: relative;z-index: 1;}#sk-container-id-3 div.sk-parallel {display: flex;align-items: stretch;justify-content: center;background-color: white;position: relative;}#sk-container-id-3 div.sk-item::before, #sk-container-id-3 div.sk-parallel-item::before {content: \"\";position: absolute;border-left: 1px solid gray;box-sizing: border-box;top: 0;bottom: 0;left: 50%;z-index: -1;}#sk-container-id-3 div.sk-parallel-item {display: flex;flex-direction: column;z-index: 1;position: relative;background-color: white;}#sk-container-id-3 div.sk-parallel-item:first-child::after {align-self: flex-end;width: 50%;}#sk-container-id-3 div.sk-parallel-item:last-child::after {align-self: flex-start;width: 50%;}#sk-container-id-3 div.sk-parallel-item:only-child::after {width: 0;}#sk-container-id-3 div.sk-dashed-wrapped {border: 1px dashed gray;margin: 0 0.4em 0.5em 0.4em;box-sizing: border-box;padding-bottom: 0.4em;background-color: white;}#sk-container-id-3 div.sk-label label {font-family: monospace;font-weight: bold;display: inline-block;line-height: 1.2em;}#sk-container-id-3 div.sk-label-container {text-align: center;}#sk-container-id-3 div.sk-container {/* jupyter's `normalize.less` sets `[hidden] { display: none; }` but bootstrap.min.css set `[hidden] { display: none !important; }` so we also need the `!important` here to be able to override the default hidden behavior on the sphinx rendered scikit-learn.org. See: https://github.com/scikit-learn/scikit-learn/issues/21755 */display: inline-block !important;position: relative;}#sk-container-id-3 div.sk-text-repr-fallback {display: none;}</style><div id=\"sk-container-id-3\" class=\"sk-top-container\"><div class=\"sk-text-repr-fallback\"><pre>LinearRegression()</pre><b>In a Jupyter environment, please rerun this cell to show the HTML representation or trust the notebook. <br />On GitHub, the HTML representation is unable to render, please try loading this page with nbviewer.org.</b></div><div class=\"sk-container\" hidden><div class=\"sk-item\"><div class=\"sk-estimator sk-toggleable\"><input class=\"sk-toggleable__control sk-hidden--visually\" id=\"sk-estimator-id-3\" type=\"checkbox\" checked><label for=\"sk-estimator-id-3\" class=\"sk-toggleable__label sk-toggleable__label-arrow\">LinearRegression</label><div class=\"sk-toggleable__content\"><pre>LinearRegression()</pre></div></div></div></div></div>"
      ],
      "text/plain": [
       "LinearRegression()"
      ]
     },
     "execution_count": 46,
     "metadata": {},
     "output_type": "execute_result"
    }
   ],
   "source": [
    "model_lr.fit(X_train_scaled, y_train)"
   ]
  },
  {
   "cell_type": "markdown",
   "metadata": {},
   "source": [
    "#### Model parameters"
   ]
  },
  {
   "cell_type": "markdown",
   "metadata": {},
   "source": [
    "<center>$\\hat y_{i} = \\beta_{0} + \\beta_{1}x_{1,i} + \\beta_{2}x_{2,i}+ .... + \\beta_{m}x_{m,i}$</center>\n",
    "<br>where,<br> $m$ = number of training features\n",
    "<br>$n$ = number of training records(rows)\n",
    "<br>$\\beta_{i}$ = coefficient of the $i^{th}$ feature ($ i \\in 1,2,..,m$)\n",
    "<br>$\\beta_{0}$ = intercept"
   ]
  },
  {
   "cell_type": "code",
   "execution_count": 52,
   "metadata": {},
   "outputs": [
    {
     "data": {
      "text/plain": [
       "array([ 0.600098  ,  0.93434089, -0.1107339 ,  0.3454346 ,  0.17772878,\n",
       "        0.09563917,  0.05510655, -1.01356398, -0.27748353, -0.20093573,\n",
       "        0.037093  ,  0.34349447, -0.01283596,  0.22223181, -0.20212954,\n",
       "       -0.09475472, -0.06500591, -0.06469466, -0.09532891, -0.10844603,\n",
       "        0.08572871, -4.68643961])"
      ]
     },
     "execution_count": 52,
     "metadata": {},
     "output_type": "execute_result"
    }
   ],
   "source": [
    "# Coefficients beta_i\n",
    "model_lr.coef_"
   ]
  },
  {
   "cell_type": "code",
   "execution_count": 53,
   "metadata": {},
   "outputs": [
    {
     "data": {
      "text/plain": [
       "4.392826556988321"
      ]
     },
     "execution_count": 53,
     "metadata": {},
     "output_type": "execute_result"
    }
   ],
   "source": [
    "# intercept\n",
    "model_lr.intercept_"
   ]
  },
  {
   "cell_type": "markdown",
   "metadata": {},
   "source": [
    "#### Evaluate model"
   ]
  },
  {
   "cell_type": "code",
   "execution_count": 47,
   "metadata": {},
   "outputs": [
    {
     "data": {
      "text/plain": [
       "array([2.28632899, 1.91695412, 1.71898055, ..., 1.99712919, 2.44087717,\n",
       "       2.0602908 ])"
      ]
     },
     "execution_count": 47,
     "metadata": {},
     "output_type": "execute_result"
    }
   ],
   "source": [
    "# Check predictions on test dataset\n",
    "X_test_scaled = x_scaler.transform(X_test)\n",
    "predictions = model_lr.predict(X_test_scaled)\n",
    "predictions"
   ]
  },
  {
   "cell_type": "code",
   "execution_count": 90,
   "metadata": {},
   "outputs": [
    {
     "data": {
      "image/png": "[encoded data removed]",
      "text/plain": [
       "<Figure size 432x432 with 1 Axes>"
      ]
     },
     "metadata": {
      "needs_background": "light"
     },
     "output_type": "display_data"
    }
   ],
   "source": [
    "plt.figure(figsize=(6,6))\n",
    "plt.scatter(y_test[:500],predictions[:500],marker='*', color='green')\n",
    "plt.axline([0, 0], [1, 1], color='red',ls='-.')\n",
    "plt.xlim([0,6])\n",
    "plt.ylim([0,6])\n",
    "plt.grid()\n",
    "plt.xlabel('Actual');\n",
    "plt.ylabel('Predicted');\n",
    "plt.title('% Silica - Actual vs Predicted', fontsize=18);"
   ]
  },
  {
   "cell_type": "markdown",
   "metadata": {},
   "source": [
    "#### Model metrics"
   ]
  },
  {
   "cell_type": "code",
   "execution_count": 84,
   "metadata": {},
   "outputs": [
    {
     "name": "stdout",
     "output_type": "stream",
     "text": [
      "R^2: 0.6799\n",
      "RMSE: 0.6364\n"
     ]
    }
   ],
   "source": [
    "r2 = r2_score(y_test, predictions)\n",
    "error = mean_squared_error(y_test, predictions)\n",
    "\n",
    "print(f'R^2: {round(r2, 4)}\\nRMSE: {round(np.sqrt(error),4)}')"
   ]
  },
  {
   "cell_type": "markdown",
   "metadata": {},
   "source": [
    "#### Save model"
   ]
  },
  {
   "cell_type": "code",
   "execution_count": 80,
   "metadata": {},
   "outputs": [],
   "source": [
    "filename = 'model_lr.pkl'\n",
    "pickle.dump(model_lr, open(filename, 'wb'))"
   ]
  },
  {
   "cell_type": "code",
   "execution_count": 97,
   "metadata": {},
   "outputs": [
    {
     "data": {
      "text/plain": [
       "array([5.96600e+01, 9.09000e+00, 3.37695e+03, 5.79834e+02, 4.00488e+02,\n",
       "       9.98931e+00, 1.77897e+00, 2.49390e+02, 2.49609e+02, 2.51807e+02,\n",
       "       2.95096e+02, 3.06400e+02, 2.49829e+02, 2.49609e+02, 4.40930e+02,\n",
       "       4.63890e+02, 4.39190e+02, 4.54690e+02, 4.60450e+02, 4.37410e+02,\n",
       "       4.55750e+02, 6.55000e+01])"
      ]
     },
     "execution_count": 97,
     "metadata": {},
     "output_type": "execute_result"
    }
   ],
   "source": [
    "X_test.values[0]"
   ]
  },
  {
   "cell_type": "code",
   "execution_count": 106,
   "metadata": {},
   "outputs": [
    {
     "name": "stdout",
     "output_type": "stream",
     "text": [
      "[[0.734375   0.24244313 0.53600375 0.67933811 0.5717959  0.60150969\n",
      "  0.77722257 0.37245225 0.37076525 0.40362598 0.21212343 0.84375525\n",
      "  0.33097767 0.34286838 0.40910226 0.40949776 0.41144962 0.5644784\n",
      "  0.57693359 0.51852418 0.57867973 0.57885906]]\n",
      "[2.28632899]\n"
     ]
    },
    {
     "name": "stderr",
     "output_type": "stream",
     "text": [
      "/home/elite/.local/lib/python3.8/site-packages/sklearn/base.py:450: UserWarning: X does not have valid feature names, but MinMaxScaler was fitted with feature names\n",
      "  warnings.warn(\n"
     ]
    }
   ],
   "source": [
    "# load the model from disk\n",
    "loaded_model = pickle.load(open(filename, 'rb'))\n",
    "X_input = X_test.values[0]\n",
    "X_input_sc = x_scaler.transform(X_input.reshape(1, -1))\n",
    "print(X_input_sc)\n",
    "result = loaded_model.predict(X_input_sc)\n",
    "print(result)"
   ]
  },
  {
   "cell_type": "code",
   "execution_count": null,
   "metadata": {},
   "outputs": [],
   "source": []
  }
 ],
 "metadata": {
  "kernelspec": {
   "display_name": "Python 3",
   "language": "python",
   "name": "python3"
  },
  "language_info": {
   "codemirror_mode": {
    "name": "ipython",
    "version": 3
   },
   "file_extension": ".py",
   "mimetype": "text/x-python",
   "name": "python",
   "nbconvert_exporter": "python",
   "pygments_lexer": "ipython3",
   "version": "3.8.10"
  },
  "vscode": {
   "interpreter": {
    "hash": "31f2aee4e71d21fbe5cf8b01ff0e069b9275f58929596ceb00d14d90e3e16cd6"
   }
  }
 },
 "nbformat": 4,
 "nbformat_minor": 2
}
